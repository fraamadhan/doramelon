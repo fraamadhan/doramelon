{
 "cells": [
  {
   "cell_type": "code",
   "execution_count": null,
   "source": [
    "hehe"
   ],
   "outputs": [],
   "metadata": {}
  },
  {
   "cell_type": "markdown",
   "source": [
    "Ini nyoba"
   ],
   "metadata": {}
  }
 ],
 "metadata": {
  "language_info": {
   "name": "python"
  },
  "orig_nbformat": 4
 },
 "nbformat": 4,
 "nbformat_minor": 2
}