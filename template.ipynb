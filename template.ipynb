{
 "cells": [
  {
   "cell_type": "markdown",
   "source": [
    "TUGAS SELEKSI TAHAP 1 DATA SCIENCE COMPFEST 2022 <br>\n",
    "DORAMELON TEAM<br>\n",
    "<br>\n",
    "Anggota:\n",
    "- Chiquita Ahsanunnisa (Ketua)\n",
    "- Marvel Subekti\n",
    "- Fakhri Fajar Ramadhan"
   ],
   "metadata": {}
  },
  {
   "cell_type": "markdown",
   "source": [
    "A. PROBLEM STATEMENT #draft <br>\n",
    "<br>\n",
    "Berikut adalah beberapa masalah penulis pilih untuk ditelusuri lebih jauh dengan analisis data:\n",
    "1. Bagaimana hubungan (kuantitas bidang covid) terhadap waktu ditinjau dari cakupan global, Indonesia, dan Jakarta?\n",
    "2. Bagaimana hubungan (kuantitas bidang mobilitas) terhadap waktu ditinjau dari cakupan global, Indonesia, dan Jakarta?\n",
    "3. Bagaimana hubungan (kuantitas bidang covid) dan (kuantitas bidang mobilitas) ditinjau dari cakupan global, Indonesia, dan Jakarta?"
   ],
   "metadata": {}
  },
  {
   "cell_type": "markdown",
   "source": [
    "B. DATA CLEANING AND PREPROCESSING<br>"
   ],
   "metadata": {}
  },
  {
   "cell_type": "markdown",
   "source": [
    "C. EXPLORATORY DATA ANALYSIS<br>"
   ],
   "metadata": {}
  },
  {
   "cell_type": "markdown",
   "source": [
    "D. MODELLING <br>"
   ],
   "metadata": {}
  },
  {
   "cell_type": "markdown",
   "source": [
    "E. CONCLUSION <br>\n",
    "Berdasarkan analisis yang telah dilakukan, dapat disimpulkan:\n",
    "1. ...\n",
    "2. ...\n",
    "3. ..."
   ],
   "metadata": {}
  },
  {
   "cell_type": "markdown",
   "source": [
    "F. DAFTAR PUSTAKA <br>"
   ],
   "metadata": {}
  }
 ],
 "metadata": {
  "orig_nbformat": 4,
  "language_info": {
   "name": "python"
  }
 },
 "nbformat": 4,
 "nbformat_minor": 2
}